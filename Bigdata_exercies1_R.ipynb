{
  "nbformat": 4,
  "nbformat_minor": 0,
  "metadata": {
    "colab": {
      "provenance": [],
      "collapsed_sections": [],
      "authorship_tag": "ABX9TyNGqgYC+iflcM2J1KIHQY+d",
      "include_colab_link": true
    },
    "kernelspec": {
      "name": "ir",
      "display_name": "R"
    },
    "language_info": {
      "name": "R"
    }
  },
  "cells": [
    {
      "cell_type": "markdown",
      "metadata": {
        "id": "view-in-github",
        "colab_type": "text"
      },
      "source": [
        "<a href=\"https://colab.research.google.com/github/Songeuiseob/Coursera_BigData/blob/main/Bigdata_exercies1_R.ipynb\" target=\"_parent\"><img src=\"https://colab.research.google.com/assets/colab-badge.svg\" alt=\"Open In Colab\"/></a>"
      ]
    },
    {
      "cell_type": "code",
      "execution_count": null,
      "metadata": {
        "colab": {
          "base_uri": "https://localhost:8080/",
          "height": 34
        },
        "id": "5PiAB2mcu-jx",
        "outputId": "c758e0c6-163b-450f-9d37-11dbb53b107e"
      },
      "outputs": [
        {
          "output_type": "display_data",
          "data": {
            "text/html": [
              "1"
            ],
            "text/markdown": "1",
            "text/latex": "1",
            "text/plain": [
              "[1] 1"
            ]
          },
          "metadata": {}
        }
      ],
      "source": [
        "a <- 1\n",
        "a"
      ]
    },
    {
      "cell_type": "code",
      "source": [
        "str1 <- \"2022-04-09\"\n",
        "str2 <- \"2022-06-25\"\n",
        "x <- as.Date(str1)\n",
        "y <- as.Date(str2)\n",
        "y - x"
      ],
      "metadata": {
        "colab": {
          "base_uri": "https://localhost:8080/",
          "height": 35
        },
        "id": "R_bPXYV-HlmU",
        "outputId": "751794cd-1132-4429-aba0-41dac3247f3f"
      },
      "execution_count": null,
      "outputs": [
        {
          "output_type": "display_data",
          "data": {
            "text/plain": [
              "Time difference of 77 days"
            ]
          },
          "metadata": {}
        }
      ]
    },
    {
      "cell_type": "code",
      "source": [
        "# names() 함수를 이용한 slicing\n",
        "x <- c(100, 200, 300)\n",
        "names(x) <- c(\"a\", \"b\", \"c\")\n",
        "x[\"b\"]"
      ],
      "metadata": {
        "colab": {
          "base_uri": "https://localhost:8080/",
          "height": 34
        },
        "id": "EUZdVAceIgY4",
        "outputId": "21be0942-1202-4c3a-d34a-c8a20543ea32"
      },
      "execution_count": null,
      "outputs": [
        {
          "output_type": "display_data",
          "data": {
            "text/html": [
              "<strong>b:</strong> 200"
            ],
            "text/markdown": "**b:** 200",
            "text/latex": "\\textbf{b:} 200",
            "text/plain": [
              "  b \n",
              "200 "
            ]
          },
          "metadata": {}
        }
      ]
    },
    {
      "cell_type": "code",
      "source": [
        "# 벡터의 집합 연산\n",
        "x1 <- c(10, 20, 30, 40)\n",
        "x2 <- c(30, 40, 50, 60)\n",
        "x3 <- c(40, 30, 20, 10)\n",
        "union(x1, x2)           # 합집합\n",
        "intersect(x1, x2)       # 교집합   \n",
        "setdiff(x1, x2)         # 차집합 x1 - x2\n",
        "setequal(x1, x2)        # x1, x2가 동일하면 TRUE, 아니면 FALSE 반환\n",
        "setequal(x1, x3)"
      ],
      "metadata": {
        "colab": {
          "base_uri": "https://localhost:8080/",
          "height": 104
        },
        "id": "RtGp4C7RIgZo",
        "outputId": "aefdb346-feba-4184-d020-61ff5bfda91d"
      },
      "execution_count": null,
      "outputs": [
        {
          "output_type": "display_data",
          "data": {
            "text/html": [
              "<style>\n",
              ".list-inline {list-style: none; margin:0; padding: 0}\n",
              ".list-inline>li {display: inline-block}\n",
              ".list-inline>li:not(:last-child)::after {content: \"\\00b7\"; padding: 0 .5ex}\n",
              "</style>\n",
              "<ol class=list-inline><li>10</li><li>20</li><li>30</li><li>40</li><li>50</li><li>60</li></ol>\n"
            ],
            "text/markdown": "1. 10\n2. 20\n3. 30\n4. 40\n5. 50\n6. 60\n\n\n",
            "text/latex": "\\begin{enumerate*}\n\\item 10\n\\item 20\n\\item 30\n\\item 40\n\\item 50\n\\item 60\n\\end{enumerate*}\n",
            "text/plain": [
              "[1] 10 20 30 40 50 60"
            ]
          },
          "metadata": {}
        },
        {
          "output_type": "display_data",
          "data": {
            "text/html": [
              "<style>\n",
              ".list-inline {list-style: none; margin:0; padding: 0}\n",
              ".list-inline>li {display: inline-block}\n",
              ".list-inline>li:not(:last-child)::after {content: \"\\00b7\"; padding: 0 .5ex}\n",
              "</style>\n",
              "<ol class=list-inline><li>30</li><li>40</li></ol>\n"
            ],
            "text/markdown": "1. 30\n2. 40\n\n\n",
            "text/latex": "\\begin{enumerate*}\n\\item 30\n\\item 40\n\\end{enumerate*}\n",
            "text/plain": [
              "[1] 30 40"
            ]
          },
          "metadata": {}
        },
        {
          "output_type": "display_data",
          "data": {
            "text/html": [
              "<style>\n",
              ".list-inline {list-style: none; margin:0; padding: 0}\n",
              ".list-inline>li {display: inline-block}\n",
              ".list-inline>li:not(:last-child)::after {content: \"\\00b7\"; padding: 0 .5ex}\n",
              "</style>\n",
              "<ol class=list-inline><li>10</li><li>20</li></ol>\n"
            ],
            "text/markdown": "1. 10\n2. 20\n\n\n",
            "text/latex": "\\begin{enumerate*}\n\\item 10\n\\item 20\n\\end{enumerate*}\n",
            "text/plain": [
              "[1] 10 20"
            ]
          },
          "metadata": {}
        },
        {
          "output_type": "display_data",
          "data": {
            "text/html": [
              "FALSE"
            ],
            "text/markdown": "FALSE",
            "text/latex": "FALSE",
            "text/plain": [
              "[1] FALSE"
            ]
          },
          "metadata": {}
        },
        {
          "output_type": "display_data",
          "data": {
            "text/html": [
              "TRUE"
            ],
            "text/markdown": "TRUE",
            "text/latex": "TRUE",
            "text/plain": [
              "[1] TRUE"
            ]
          },
          "metadata": {}
        }
      ]
    },
    {
      "cell_type": "code",
      "source": [
        "# R의 기초통계함수\n",
        "# 표준편차 : sd(x)\n",
        "# 분산 : var(x)\n",
        "# 공분산 : cov(x, y)\n",
        "# 상관계수 : coef(x, y)\n",
        "# 벡터의 길이 : length(x)\n",
        "x <- c(10, 20, 30, 40, 50)\n",
        "y <- c(1, 2, 3, 4, 5)\n",
        "sd(c(x, y))\n",
        "var(c(x, y))\n",
        "cov(x, y)"
      ],
      "metadata": {
        "colab": {
          "base_uri": "https://localhost:8080/",
          "height": 69
        },
        "id": "J4IEKLSbIgbe",
        "outputId": "e20d90f0-dfa2-48a4-b4b5-5a5d81f2f95b"
      },
      "execution_count": null,
      "outputs": [
        {
          "output_type": "display_data",
          "data": {
            "text/html": [
              "17.7404121209802"
            ],
            "text/markdown": "17.7404121209802",
            "text/latex": "17.7404121209802",
            "text/plain": [
              "[1] 17.74041"
            ]
          },
          "metadata": {}
        },
        {
          "output_type": "display_data",
          "data": {
            "text/html": [
              "314.722222222222"
            ],
            "text/markdown": "314.722222222222",
            "text/latex": "314.722222222222",
            "text/plain": [
              "[1] 314.7222"
            ]
          },
          "metadata": {}
        },
        {
          "output_type": "display_data",
          "data": {
            "text/html": [
              "25"
            ],
            "text/markdown": "25",
            "text/latex": "25",
            "text/plain": [
              "[1] 25"
            ]
          },
          "metadata": {}
        }
      ]
    },
    {
      "cell_type": "code",
      "source": [
        "# 행렬(Matrix)\n",
        "# 행렬 생성 : matrix()함수 이용, matrix(data, nrow, ncol)\n",
        "x <- c(1:20)\n",
        "x <- matrix(x, 5, 4)\n",
        "x                       "
      ],
      "metadata": {
        "colab": {
          "base_uri": "https://localhost:8080/",
          "height": 209
        },
        "id": "g3qAWQriIgd3",
        "outputId": "10746e5f-9e2f-4979-9e06-6fbe0e0e8f5c"
      },
      "execution_count": null,
      "outputs": [
        {
          "output_type": "display_data",
          "data": {
            "text/html": [
              "<table class=\"dataframe\">\n",
              "<caption>A matrix: 5 × 4 of type int</caption>\n",
              "<tbody>\n",
              "\t<tr><td>1</td><td> 6</td><td>11</td><td>16</td></tr>\n",
              "\t<tr><td>2</td><td> 7</td><td>12</td><td>17</td></tr>\n",
              "\t<tr><td>3</td><td> 8</td><td>13</td><td>18</td></tr>\n",
              "\t<tr><td>4</td><td> 9</td><td>14</td><td>19</td></tr>\n",
              "\t<tr><td>5</td><td>10</td><td>15</td><td>20</td></tr>\n",
              "</tbody>\n",
              "</table>\n"
            ],
            "text/markdown": "\nA matrix: 5 × 4 of type int\n\n| 1 |  6 | 11 | 16 |\n| 2 |  7 | 12 | 17 |\n| 3 |  8 | 13 | 18 |\n| 4 |  9 | 14 | 19 |\n| 5 | 10 | 15 | 20 |\n\n",
            "text/latex": "A matrix: 5 × 4 of type int\n\\begin{tabular}{llll}\n\t 1 &  6 & 11 & 16\\\\\n\t 2 &  7 & 12 & 17\\\\\n\t 3 &  8 & 13 & 18\\\\\n\t 4 &  9 & 14 & 19\\\\\n\t 5 & 10 & 15 & 20\\\\\n\\end{tabular}\n",
            "text/plain": [
              "     [,1] [,2] [,3] [,4]\n",
              "[1,] 1     6   11   16  \n",
              "[2,] 2     7   12   17  \n",
              "[3,] 3     8   13   18  \n",
              "[4,] 4     9   14   19  \n",
              "[5,] 5    10   15   20  "
            ]
          },
          "metadata": {}
        }
      ]
    },
    {
      "cell_type": "code",
      "source": [
        "# matrix는 1행 1열, 1행 2열, 1행 3열의 순서로 채워짐. byrow = T 옵션을 사용하면 행기준으로 생상\n",
        "x <- c(1:20)\n",
        "x <- matrix(x, 5, 4, byrow = T)\n",
        "x  "
      ],
      "metadata": {
        "colab": {
          "base_uri": "https://localhost:8080/",
          "height": 209
        },
        "id": "gavH37Kwr-dl",
        "outputId": "8aaeb107-b94e-45c0-b90c-b450e2a4f22b"
      },
      "execution_count": null,
      "outputs": [
        {
          "output_type": "display_data",
          "data": {
            "text/html": [
              "<table class=\"dataframe\">\n",
              "<caption>A matrix: 5 × 4 of type int</caption>\n",
              "<tbody>\n",
              "\t<tr><td> 1</td><td> 2</td><td> 3</td><td> 4</td></tr>\n",
              "\t<tr><td> 5</td><td> 6</td><td> 7</td><td> 8</td></tr>\n",
              "\t<tr><td> 9</td><td>10</td><td>11</td><td>12</td></tr>\n",
              "\t<tr><td>13</td><td>14</td><td>15</td><td>16</td></tr>\n",
              "\t<tr><td>17</td><td>18</td><td>19</td><td>20</td></tr>\n",
              "</tbody>\n",
              "</table>\n"
            ],
            "text/markdown": "\nA matrix: 5 × 4 of type int\n\n|  1 |  2 |  3 |  4 |\n|  5 |  6 |  7 |  8 |\n|  9 | 10 | 11 | 12 |\n| 13 | 14 | 15 | 16 |\n| 17 | 18 | 19 | 20 |\n\n",
            "text/latex": "A matrix: 5 × 4 of type int\n\\begin{tabular}{llll}\n\t  1 &  2 &  3 &  4\\\\\n\t  5 &  6 &  7 &  8\\\\\n\t  9 & 10 & 11 & 12\\\\\n\t 13 & 14 & 15 & 16\\\\\n\t 17 & 18 & 19 & 20\\\\\n\\end{tabular}\n",
            "text/plain": [
              "     [,1] [,2] [,3] [,4]\n",
              "[1,]  1    2    3    4  \n",
              "[2,]  5    6    7    8  \n",
              "[3,]  9   10   11   12  \n",
              "[4,] 13   14   15   16  \n",
              "[5,] 17   18   19   20  "
            ]
          },
          "metadata": {}
        }
      ]
    },
    {
      "cell_type": "code",
      "source": [
        "# 행렬 데이터의 slicing\n",
        "x <- matrix(1:20, 5, 4)\n",
        "x[1, 3]                 # x의 1행 3열 값 반환"
      ],
      "metadata": {
        "colab": {
          "base_uri": "https://localhost:8080/",
          "height": 34
        },
        "id": "3NOgK3pQsI8z",
        "outputId": "f27c3eb5-c241-4402-c12d-946c20aa7e80"
      },
      "execution_count": null,
      "outputs": [
        {
          "output_type": "display_data",
          "data": {
            "text/html": [
              "11"
            ],
            "text/markdown": "11",
            "text/latex": "11",
            "text/plain": [
              "[1] 11"
            ]
          },
          "metadata": {}
        }
      ]
    },
    {
      "cell_type": "code",
      "source": [
        "# 행과 열의 범위 지정\n",
        "x[2:4, 3:4]             # 2행에서 4행에서 3, 4열만 반환"
      ],
      "metadata": {
        "colab": {
          "base_uri": "https://localhost:8080/",
          "height": 163
        },
        "id": "gc084VS3sI9a",
        "outputId": "42933ad9-5acb-4d59-8579-85d75c5367e6"
      },
      "execution_count": null,
      "outputs": [
        {
          "output_type": "display_data",
          "data": {
            "text/html": [
              "<table class=\"dataframe\">\n",
              "<caption>A matrix: 3 × 2 of type int</caption>\n",
              "<tbody>\n",
              "\t<tr><td>12</td><td>17</td></tr>\n",
              "\t<tr><td>13</td><td>18</td></tr>\n",
              "\t<tr><td>14</td><td>19</td></tr>\n",
              "</tbody>\n",
              "</table>\n"
            ],
            "text/markdown": "\nA matrix: 3 × 2 of type int\n\n| 12 | 17 |\n| 13 | 18 |\n| 14 | 19 |\n\n",
            "text/latex": "A matrix: 3 × 2 of type int\n\\begin{tabular}{ll}\n\t 12 & 17\\\\\n\t 13 & 18\\\\\n\t 14 & 19\\\\\n\\end{tabular}\n",
            "text/plain": [
              "     [,1] [,2]\n",
              "[1,] 12   17  \n",
              "[2,] 13   18  \n",
              "[3,] 14   19  "
            ]
          },
          "metadata": {}
        }
      ]
    },
    {
      "cell_type": "code",
      "source": [
        "# (-)부호를 사용하여 해당 행 또는 열을 제외한 나머지 선택\n",
        "x[-3, ]"
      ],
      "metadata": {
        "colab": {
          "base_uri": "https://localhost:8080/",
          "height": 177
        },
        "id": "gGjHqbZksI_Q",
        "outputId": "14638067-cb49-4d5b-82e7-f9ad87483b95"
      },
      "execution_count": null,
      "outputs": [
        {
          "output_type": "display_data",
          "data": {
            "text/html": [
              "<table class=\"dataframe\">\n",
              "<caption>A matrix: 4 × 4 of type int</caption>\n",
              "<tbody>\n",
              "\t<tr><td>1</td><td> 6</td><td>11</td><td>16</td></tr>\n",
              "\t<tr><td>2</td><td> 7</td><td>12</td><td>17</td></tr>\n",
              "\t<tr><td>4</td><td> 9</td><td>14</td><td>19</td></tr>\n",
              "\t<tr><td>5</td><td>10</td><td>15</td><td>20</td></tr>\n",
              "</tbody>\n",
              "</table>\n"
            ],
            "text/markdown": "\nA matrix: 4 × 4 of type int\n\n| 1 |  6 | 11 | 16 |\n| 2 |  7 | 12 | 17 |\n| 4 |  9 | 14 | 19 |\n| 5 | 10 | 15 | 20 |\n\n",
            "text/latex": "A matrix: 4 × 4 of type int\n\\begin{tabular}{llll}\n\t 1 &  6 & 11 & 16\\\\\n\t 2 &  7 & 12 & 17\\\\\n\t 4 &  9 & 14 & 19\\\\\n\t 5 & 10 & 15 & 20\\\\\n\\end{tabular}\n",
            "text/plain": [
              "     [,1] [,2] [,3] [,4]\n",
              "[1,] 1     6   11   16  \n",
              "[2,] 2     7   12   17  \n",
              "[3,] 4     9   14   19  \n",
              "[4,] 5    10   15   20  "
            ]
          },
          "metadata": {}
        }
      ]
    },
    {
      "cell_type": "code",
      "source": [
        "# 행렬의 연산\n",
        "# 행렬곱 : %*%\n",
        "# 전치행렬 : t()\n",
        "# 역행렬 : solve()\n",
        "# 행렬의 차원 : dim()\n",
        "x <- matrix(1:4, 2, 2)\n",
        "x\n",
        "x %*% x"
      ],
      "metadata": {
        "colab": {
          "base_uri": "https://localhost:8080/",
          "height": 281
        },
        "id": "o43bPjZHsJBo",
        "outputId": "ee11d1f5-e9dc-48c6-8d05-27f4c34c71c1"
      },
      "execution_count": null,
      "outputs": [
        {
          "output_type": "display_data",
          "data": {
            "text/html": [
              "<table class=\"dataframe\">\n",
              "<caption>A matrix: 2 × 2 of type int</caption>\n",
              "<tbody>\n",
              "\t<tr><td>1</td><td>3</td></tr>\n",
              "\t<tr><td>2</td><td>4</td></tr>\n",
              "</tbody>\n",
              "</table>\n"
            ],
            "text/markdown": "\nA matrix: 2 × 2 of type int\n\n| 1 | 3 |\n| 2 | 4 |\n\n",
            "text/latex": "A matrix: 2 × 2 of type int\n\\begin{tabular}{ll}\n\t 1 & 3\\\\\n\t 2 & 4\\\\\n\\end{tabular}\n",
            "text/plain": [
              "     [,1] [,2]\n",
              "[1,] 1    3   \n",
              "[2,] 2    4   "
            ]
          },
          "metadata": {}
        },
        {
          "output_type": "display_data",
          "data": {
            "text/html": [
              "<table class=\"dataframe\">\n",
              "<caption>A matrix: 2 × 2 of type dbl</caption>\n",
              "<tbody>\n",
              "\t<tr><td> 7</td><td>15</td></tr>\n",
              "\t<tr><td>10</td><td>22</td></tr>\n",
              "</tbody>\n",
              "</table>\n"
            ],
            "text/markdown": "\nA matrix: 2 × 2 of type dbl\n\n|  7 | 15 |\n| 10 | 22 |\n\n",
            "text/latex": "A matrix: 2 × 2 of type dbl\n\\begin{tabular}{ll}\n\t  7 & 15\\\\\n\t 10 & 22\\\\\n\\end{tabular}\n",
            "text/plain": [
              "     [,1] [,2]\n",
              "[1,]  7   15  \n",
              "[2,] 10   22  "
            ]
          },
          "metadata": {}
        }
      ]
    },
    {
      "cell_type": "code",
      "source": [
        "# 데이터프레임의 생성\n",
        "# 열에 해당하는 벡터를 먼저 정의하고 합쳐서 데이터프레임으로 정의\n",
        "\n",
        "x1 <- c(\"01\", \"02\", \"03\", \"04\", \"05\")\n",
        "x2 <- c(\"사과\", \"배\", \"감\", \"귤\", \"바나나\")\n",
        "x3 <- c(100, 200, 300, 400, 500)\n",
        "x4 <- c(10, 25, 30, 20, 15)"
      ],
      "metadata": {
        "id": "FuRkTe0psJD_"
      },
      "execution_count": null,
      "outputs": []
    },
    {
      "cell_type": "code",
      "source": [
        "df = data.frame(과일번호 = x1, 과일명 = x2, 가격 = x3, 수량 = x4)\n",
        "df"
      ],
      "metadata": {
        "colab": {
          "base_uri": "https://localhost:8080/",
          "height": 255
        },
        "id": "9Un7k_ElsJGh",
        "outputId": "f925561a-3460-4ae9-f41c-8db6e7e82cc2"
      },
      "execution_count": null,
      "outputs": [
        {
          "output_type": "display_data",
          "data": {
            "text/html": [
              "<table class=\"dataframe\">\n",
              "<caption>A data.frame: 5 × 4</caption>\n",
              "<thead>\n",
              "\t<tr><th scope=col>과일번호</th><th scope=col>과일명</th><th scope=col>가격</th><th scope=col>수량</th></tr>\n",
              "\t<tr><th scope=col>&lt;chr&gt;</th><th scope=col>&lt;chr&gt;</th><th scope=col>&lt;dbl&gt;</th><th scope=col>&lt;dbl&gt;</th></tr>\n",
              "</thead>\n",
              "<tbody>\n",
              "\t<tr><td>01</td><td>사과  </td><td>100</td><td>10</td></tr>\n",
              "\t<tr><td>02</td><td>배    </td><td>200</td><td>25</td></tr>\n",
              "\t<tr><td>03</td><td>감    </td><td>300</td><td>30</td></tr>\n",
              "\t<tr><td>04</td><td>귤    </td><td>400</td><td>20</td></tr>\n",
              "\t<tr><td>05</td><td>바나나</td><td>500</td><td>15</td></tr>\n",
              "</tbody>\n",
              "</table>\n"
            ],
            "text/markdown": "\nA data.frame: 5 × 4\n\n| 과일번호 &lt;chr&gt; | 과일명 &lt;chr&gt; | 가격 &lt;dbl&gt; | 수량 &lt;dbl&gt; |\n|---|---|---|---|\n| 01 | 사과   | 100 | 10 |\n| 02 | 배     | 200 | 25 |\n| 03 | 감     | 300 | 30 |\n| 04 | 귤     | 400 | 20 |\n| 05 | 바나나 | 500 | 15 |\n\n",
            "text/latex": "A data.frame: 5 × 4\n\\begin{tabular}{llll}\n 과일번호 & 과일명 & 가격 & 수량\\\\\n <chr> & <chr> & <dbl> & <dbl>\\\\\n\\hline\n\t 01 & 사과   & 100 & 10\\\\\n\t 02 & 배     & 200 & 25\\\\\n\t 03 & 감     & 300 & 30\\\\\n\t 04 & 귤     & 400 & 20\\\\\n\t 05 & 바나나 & 500 & 15\\\\\n\\end{tabular}\n",
            "text/plain": [
              "  과일번호 과일명 가격 수량\n",
              "1 01       사과   100  10  \n",
              "2 02       배     200  25  \n",
              "3 03       감     300  30  \n",
              "4 04       귤     400  20  \n",
              "5 05       바나나 500  15  "
            ]
          },
          "metadata": {}
        }
      ]
    },
    {
      "cell_type": "code",
      "source": [
        "# 데이터프레임의 구조 확인\n",
        "# str() \n",
        "str(df)"
      ],
      "metadata": {
        "colab": {
          "base_uri": "https://localhost:8080/"
        },
        "id": "yU9vI-0HsJJA",
        "outputId": "28e6c78e-a33f-4250-c43f-01458b4a9a7f"
      },
      "execution_count": null,
      "outputs": [
        {
          "output_type": "stream",
          "name": "stdout",
          "text": [
            "'data.frame':\t5 obs. of  4 variables:\n",
            " $ 과일번호: chr  \"01\" \"02\" \"03\" \"04\" ...\n",
            " $ 과일명  : chr  \"사과\" \"배\" \"감\" \"귤\" ...\n",
            " $ 가격    : num  100 200 300 400 500\n",
            " $ 수량    : num  10 25 30 20 15\n"
          ]
        }
      ]
    },
    {
      "cell_type": "code",
      "source": [
        "# 데이터프레임 데이터 선택하기\n",
        "# data.frame[행, 렬] 또는 data.frames$변수 사용\n",
        "# 행번호 또는 열번호 생략 시 행전체 또는 열전체 데이터를 선택\n",
        "df[2, 2]\n",
        "df$\"과일명\"\n",
        "df[3, ]\n",
        "df[, \"가격\"]"
      ],
      "metadata": {
        "colab": {
          "base_uri": "https://localhost:8080/",
          "height": 182
        },
        "id": "FW8fG1jgsJLQ",
        "outputId": "c72a3be2-09e6-4604-ffa3-3e2dc7404404"
      },
      "execution_count": null,
      "outputs": [
        {
          "output_type": "display_data",
          "data": {
            "text/html": [
              "'배'"
            ],
            "text/markdown": "'배'",
            "text/latex": "'배'",
            "text/plain": [
              "[1] \"배\""
            ]
          },
          "metadata": {}
        },
        {
          "output_type": "display_data",
          "data": {
            "text/html": [
              "<style>\n",
              ".list-inline {list-style: none; margin:0; padding: 0}\n",
              ".list-inline>li {display: inline-block}\n",
              ".list-inline>li:not(:last-child)::after {content: \"\\00b7\"; padding: 0 .5ex}\n",
              "</style>\n",
              "<ol class=list-inline><li>'사과'</li><li>'배'</li><li>'감'</li><li>'귤'</li><li>'바나나'</li></ol>\n"
            ],
            "text/markdown": "1. '사과'\n2. '배'\n3. '감'\n4. '귤'\n5. '바나나'\n\n\n",
            "text/latex": "\\begin{enumerate*}\n\\item '사과'\n\\item '배'\n\\item '감'\n\\item '귤'\n\\item '바나나'\n\\end{enumerate*}\n",
            "text/plain": [
              "[1] \"사과\"   \"배\"     \"감\"     \"귤\"     \"바나나\""
            ]
          },
          "metadata": {}
        },
        {
          "output_type": "display_data",
          "data": {
            "text/html": [
              "<table class=\"dataframe\">\n",
              "<caption>A data.frame: 1 × 4</caption>\n",
              "<thead>\n",
              "\t<tr><th></th><th scope=col>과일번호</th><th scope=col>과일명</th><th scope=col>가격</th><th scope=col>수량</th></tr>\n",
              "\t<tr><th></th><th scope=col>&lt;chr&gt;</th><th scope=col>&lt;chr&gt;</th><th scope=col>&lt;dbl&gt;</th><th scope=col>&lt;dbl&gt;</th></tr>\n",
              "</thead>\n",
              "<tbody>\n",
              "\t<tr><th scope=row>3</th><td>03</td><td>감</td><td>300</td><td>30</td></tr>\n",
              "</tbody>\n",
              "</table>\n"
            ],
            "text/markdown": "\nA data.frame: 1 × 4\n\n| <!--/--> | 과일번호 &lt;chr&gt; | 과일명 &lt;chr&gt; | 가격 &lt;dbl&gt; | 수량 &lt;dbl&gt; |\n|---|---|---|---|---|\n| 3 | 03 | 감 | 300 | 30 |\n\n",
            "text/latex": "A data.frame: 1 × 4\n\\begin{tabular}{r|llll}\n  & 과일번호 & 과일명 & 가격 & 수량\\\\\n  & <chr> & <chr> & <dbl> & <dbl>\\\\\n\\hline\n\t3 & 03 & 감 & 300 & 30\\\\\n\\end{tabular}\n",
            "text/plain": [
              "  과일번호 과일명 가격 수량\n",
              "3 03       감     300  30  "
            ]
          },
          "metadata": {}
        },
        {
          "output_type": "display_data",
          "data": {
            "text/html": [
              "<style>\n",
              ".list-inline {list-style: none; margin:0; padding: 0}\n",
              ".list-inline>li {display: inline-block}\n",
              ".list-inline>li:not(:last-child)::after {content: \"\\00b7\"; padding: 0 .5ex}\n",
              "</style>\n",
              "<ol class=list-inline><li>100</li><li>200</li><li>300</li><li>400</li><li>500</li></ol>\n"
            ],
            "text/markdown": "1. 100\n2. 200\n3. 300\n4. 400\n5. 500\n\n\n",
            "text/latex": "\\begin{enumerate*}\n\\item 100\n\\item 200\n\\item 300\n\\item 400\n\\item 500\n\\end{enumerate*}\n",
            "text/plain": [
              "[1] 100 200 300 400 500"
            ]
          },
          "metadata": {}
        }
      ]
    },
    {
      "cell_type": "code",
      "source": [
        "# 여러건 선택\n",
        "df[c(1, 3), ]\n",
        "df[c(1, 2), c(3, 4)]\n",
        "\n",
        "# 범위 선택\n",
        "df[1:3, 1:2]"
      ],
      "metadata": {
        "colab": {
          "base_uri": "https://localhost:8080/",
          "height": 480
        },
        "id": "5CP4hmwgKbt8",
        "outputId": "af10c60e-3e88-4320-c754-c6703ba5b33a"
      },
      "execution_count": null,
      "outputs": [
        {
          "output_type": "display_data",
          "data": {
            "text/html": [
              "<table class=\"dataframe\">\n",
              "<caption>A data.frame: 2 × 4</caption>\n",
              "<thead>\n",
              "\t<tr><th></th><th scope=col>과일번호</th><th scope=col>과일명</th><th scope=col>가격</th><th scope=col>수량</th></tr>\n",
              "\t<tr><th></th><th scope=col>&lt;chr&gt;</th><th scope=col>&lt;chr&gt;</th><th scope=col>&lt;dbl&gt;</th><th scope=col>&lt;dbl&gt;</th></tr>\n",
              "</thead>\n",
              "<tbody>\n",
              "\t<tr><th scope=row>1</th><td>01</td><td>사과</td><td>100</td><td>10</td></tr>\n",
              "\t<tr><th scope=row>3</th><td>03</td><td>감  </td><td>300</td><td>30</td></tr>\n",
              "</tbody>\n",
              "</table>\n"
            ],
            "text/markdown": "\nA data.frame: 2 × 4\n\n| <!--/--> | 과일번호 &lt;chr&gt; | 과일명 &lt;chr&gt; | 가격 &lt;dbl&gt; | 수량 &lt;dbl&gt; |\n|---|---|---|---|---|\n| 1 | 01 | 사과 | 100 | 10 |\n| 3 | 03 | 감   | 300 | 30 |\n\n",
            "text/latex": "A data.frame: 2 × 4\n\\begin{tabular}{r|llll}\n  & 과일번호 & 과일명 & 가격 & 수량\\\\\n  & <chr> & <chr> & <dbl> & <dbl>\\\\\n\\hline\n\t1 & 01 & 사과 & 100 & 10\\\\\n\t3 & 03 & 감   & 300 & 30\\\\\n\\end{tabular}\n",
            "text/plain": [
              "  과일번호 과일명 가격 수량\n",
              "1 01       사과   100  10  \n",
              "3 03       감     300  30  "
            ]
          },
          "metadata": {}
        },
        {
          "output_type": "display_data",
          "data": {
            "text/html": [
              "<table class=\"dataframe\">\n",
              "<caption>A data.frame: 2 × 2</caption>\n",
              "<thead>\n",
              "\t<tr><th></th><th scope=col>가격</th><th scope=col>수량</th></tr>\n",
              "\t<tr><th></th><th scope=col>&lt;dbl&gt;</th><th scope=col>&lt;dbl&gt;</th></tr>\n",
              "</thead>\n",
              "<tbody>\n",
              "\t<tr><th scope=row>1</th><td>100</td><td>10</td></tr>\n",
              "\t<tr><th scope=row>2</th><td>200</td><td>25</td></tr>\n",
              "</tbody>\n",
              "</table>\n"
            ],
            "text/markdown": "\nA data.frame: 2 × 2\n\n| <!--/--> | 가격 &lt;dbl&gt; | 수량 &lt;dbl&gt; |\n|---|---|---|\n| 1 | 100 | 10 |\n| 2 | 200 | 25 |\n\n",
            "text/latex": "A data.frame: 2 × 2\n\\begin{tabular}{r|ll}\n  & 가격 & 수량\\\\\n  & <dbl> & <dbl>\\\\\n\\hline\n\t1 & 100 & 10\\\\\n\t2 & 200 & 25\\\\\n\\end{tabular}\n",
            "text/plain": [
              "  가격 수량\n",
              "1 100  10  \n",
              "2 200  25  "
            ]
          },
          "metadata": {}
        },
        {
          "output_type": "display_data",
          "data": {
            "text/html": [
              "<table class=\"dataframe\">\n",
              "<caption>A data.frame: 3 × 2</caption>\n",
              "<thead>\n",
              "\t<tr><th></th><th scope=col>과일번호</th><th scope=col>과일명</th></tr>\n",
              "\t<tr><th></th><th scope=col>&lt;chr&gt;</th><th scope=col>&lt;chr&gt;</th></tr>\n",
              "</thead>\n",
              "<tbody>\n",
              "\t<tr><th scope=row>1</th><td>01</td><td>사과</td></tr>\n",
              "\t<tr><th scope=row>2</th><td>02</td><td>배  </td></tr>\n",
              "\t<tr><th scope=row>3</th><td>03</td><td>감  </td></tr>\n",
              "</tbody>\n",
              "</table>\n"
            ],
            "text/markdown": "\nA data.frame: 3 × 2\n\n| <!--/--> | 과일번호 &lt;chr&gt; | 과일명 &lt;chr&gt; |\n|---|---|---|\n| 1 | 01 | 사과 |\n| 2 | 02 | 배   |\n| 3 | 03 | 감   |\n\n",
            "text/latex": "A data.frame: 3 × 2\n\\begin{tabular}{r|ll}\n  & 과일번호 & 과일명\\\\\n  & <chr> & <chr>\\\\\n\\hline\n\t1 & 01 & 사과\\\\\n\t2 & 02 & 배  \\\\\n\t3 & 03 & 감  \\\\\n\\end{tabular}\n",
            "text/plain": [
              "  과일번호 과일명\n",
              "1 01       사과  \n",
              "2 02       배    \n",
              "3 03       감    "
            ]
          },
          "metadata": {}
        }
      ]
    },
    {
      "cell_type": "code",
      "source": [
        "# 데이터프레임 상위(하위) n개 선택\n",
        "head(df, n = 3)\n",
        "tail(df, n = 2)"
      ],
      "metadata": {
        "colab": {
          "base_uri": "https://localhost:8080/",
          "height": 336
        },
        "id": "tiiZFXaqKbrh",
        "outputId": "1145f7ab-4fb7-4c6b-f5e3-53482481f165"
      },
      "execution_count": null,
      "outputs": [
        {
          "output_type": "display_data",
          "data": {
            "text/html": [
              "<table class=\"dataframe\">\n",
              "<caption>A data.frame: 3 × 4</caption>\n",
              "<thead>\n",
              "\t<tr><th></th><th scope=col>과일번호</th><th scope=col>과일명</th><th scope=col>가격</th><th scope=col>수량</th></tr>\n",
              "\t<tr><th></th><th scope=col>&lt;chr&gt;</th><th scope=col>&lt;chr&gt;</th><th scope=col>&lt;dbl&gt;</th><th scope=col>&lt;dbl&gt;</th></tr>\n",
              "</thead>\n",
              "<tbody>\n",
              "\t<tr><th scope=row>1</th><td>01</td><td>사과</td><td>100</td><td>10</td></tr>\n",
              "\t<tr><th scope=row>2</th><td>02</td><td>배  </td><td>200</td><td>25</td></tr>\n",
              "\t<tr><th scope=row>3</th><td>03</td><td>감  </td><td>300</td><td>30</td></tr>\n",
              "</tbody>\n",
              "</table>\n"
            ],
            "text/markdown": "\nA data.frame: 3 × 4\n\n| <!--/--> | 과일번호 &lt;chr&gt; | 과일명 &lt;chr&gt; | 가격 &lt;dbl&gt; | 수량 &lt;dbl&gt; |\n|---|---|---|---|---|\n| 1 | 01 | 사과 | 100 | 10 |\n| 2 | 02 | 배   | 200 | 25 |\n| 3 | 03 | 감   | 300 | 30 |\n\n",
            "text/latex": "A data.frame: 3 × 4\n\\begin{tabular}{r|llll}\n  & 과일번호 & 과일명 & 가격 & 수량\\\\\n  & <chr> & <chr> & <dbl> & <dbl>\\\\\n\\hline\n\t1 & 01 & 사과 & 100 & 10\\\\\n\t2 & 02 & 배   & 200 & 25\\\\\n\t3 & 03 & 감   & 300 & 30\\\\\n\\end{tabular}\n",
            "text/plain": [
              "  과일번호 과일명 가격 수량\n",
              "1 01       사과   100  10  \n",
              "2 02       배     200  25  \n",
              "3 03       감     300  30  "
            ]
          },
          "metadata": {}
        },
        {
          "output_type": "display_data",
          "data": {
            "text/html": [
              "<table class=\"dataframe\">\n",
              "<caption>A data.frame: 2 × 4</caption>\n",
              "<thead>\n",
              "\t<tr><th></th><th scope=col>과일번호</th><th scope=col>과일명</th><th scope=col>가격</th><th scope=col>수량</th></tr>\n",
              "\t<tr><th></th><th scope=col>&lt;chr&gt;</th><th scope=col>&lt;chr&gt;</th><th scope=col>&lt;dbl&gt;</th><th scope=col>&lt;dbl&gt;</th></tr>\n",
              "</thead>\n",
              "<tbody>\n",
              "\t<tr><th scope=row>4</th><td>04</td><td>귤    </td><td>400</td><td>20</td></tr>\n",
              "\t<tr><th scope=row>5</th><td>05</td><td>바나나</td><td>500</td><td>15</td></tr>\n",
              "</tbody>\n",
              "</table>\n"
            ],
            "text/markdown": "\nA data.frame: 2 × 4\n\n| <!--/--> | 과일번호 &lt;chr&gt; | 과일명 &lt;chr&gt; | 가격 &lt;dbl&gt; | 수량 &lt;dbl&gt; |\n|---|---|---|---|---|\n| 4 | 04 | 귤     | 400 | 20 |\n| 5 | 05 | 바나나 | 500 | 15 |\n\n",
            "text/latex": "A data.frame: 2 × 4\n\\begin{tabular}{r|llll}\n  & 과일번호 & 과일명 & 가격 & 수량\\\\\n  & <chr> & <chr> & <dbl> & <dbl>\\\\\n\\hline\n\t4 & 04 & 귤     & 400 & 20\\\\\n\t5 & 05 & 바나나 & 500 & 15\\\\\n\\end{tabular}\n",
            "text/plain": [
              "  과일번호 과일명 가격 수량\n",
              "4 04       귤     400  20  \n",
              "5 05       바나나 500  15  "
            ]
          },
          "metadata": {}
        }
      ]
    },
    {
      "cell_type": "code",
      "source": [
        "# 조건에 맞는 행 선택\n",
        "subset(df, 가격 >= 250)\n",
        "subset(df, 과일명 == \"바나나\")"
      ],
      "metadata": {
        "colab": {
          "base_uri": "https://localhost:8080/",
          "height": 305
        },
        "id": "xhKnoNKWKbpN",
        "outputId": "c0961215-4b85-4fe6-df80-0399271bf07a"
      },
      "execution_count": null,
      "outputs": [
        {
          "output_type": "display_data",
          "data": {
            "text/html": [
              "<table class=\"dataframe\">\n",
              "<caption>A data.frame: 3 × 4</caption>\n",
              "<thead>\n",
              "\t<tr><th></th><th scope=col>과일번호</th><th scope=col>과일명</th><th scope=col>가격</th><th scope=col>수량</th></tr>\n",
              "\t<tr><th></th><th scope=col>&lt;chr&gt;</th><th scope=col>&lt;chr&gt;</th><th scope=col>&lt;dbl&gt;</th><th scope=col>&lt;dbl&gt;</th></tr>\n",
              "</thead>\n",
              "<tbody>\n",
              "\t<tr><th scope=row>3</th><td>03</td><td>감    </td><td>300</td><td>30</td></tr>\n",
              "\t<tr><th scope=row>4</th><td>04</td><td>귤    </td><td>400</td><td>20</td></tr>\n",
              "\t<tr><th scope=row>5</th><td>05</td><td>바나나</td><td>500</td><td>15</td></tr>\n",
              "</tbody>\n",
              "</table>\n"
            ],
            "text/markdown": "\nA data.frame: 3 × 4\n\n| <!--/--> | 과일번호 &lt;chr&gt; | 과일명 &lt;chr&gt; | 가격 &lt;dbl&gt; | 수량 &lt;dbl&gt; |\n|---|---|---|---|---|\n| 3 | 03 | 감     | 300 | 30 |\n| 4 | 04 | 귤     | 400 | 20 |\n| 5 | 05 | 바나나 | 500 | 15 |\n\n",
            "text/latex": "A data.frame: 3 × 4\n\\begin{tabular}{r|llll}\n  & 과일번호 & 과일명 & 가격 & 수량\\\\\n  & <chr> & <chr> & <dbl> & <dbl>\\\\\n\\hline\n\t3 & 03 & 감     & 300 & 30\\\\\n\t4 & 04 & 귤     & 400 & 20\\\\\n\t5 & 05 & 바나나 & 500 & 15\\\\\n\\end{tabular}\n",
            "text/plain": [
              "  과일번호 과일명 가격 수량\n",
              "3 03       감     300  30  \n",
              "4 04       귤     400  20  \n",
              "5 05       바나나 500  15  "
            ]
          },
          "metadata": {}
        },
        {
          "output_type": "display_data",
          "data": {
            "text/html": [
              "<table class=\"dataframe\">\n",
              "<caption>A data.frame: 1 × 4</caption>\n",
              "<thead>\n",
              "\t<tr><th></th><th scope=col>과일번호</th><th scope=col>과일명</th><th scope=col>가격</th><th scope=col>수량</th></tr>\n",
              "\t<tr><th></th><th scope=col>&lt;chr&gt;</th><th scope=col>&lt;chr&gt;</th><th scope=col>&lt;dbl&gt;</th><th scope=col>&lt;dbl&gt;</th></tr>\n",
              "</thead>\n",
              "<tbody>\n",
              "\t<tr><th scope=row>5</th><td>05</td><td>바나나</td><td>500</td><td>15</td></tr>\n",
              "</tbody>\n",
              "</table>\n"
            ],
            "text/markdown": "\nA data.frame: 1 × 4\n\n| <!--/--> | 과일번호 &lt;chr&gt; | 과일명 &lt;chr&gt; | 가격 &lt;dbl&gt; | 수량 &lt;dbl&gt; |\n|---|---|---|---|---|\n| 5 | 05 | 바나나 | 500 | 15 |\n\n",
            "text/latex": "A data.frame: 1 × 4\n\\begin{tabular}{r|llll}\n  & 과일번호 & 과일명 & 가격 & 수량\\\\\n  & <chr> & <chr> & <dbl> & <dbl>\\\\\n\\hline\n\t5 & 05 & 바나나 & 500 & 15\\\\\n\\end{tabular}\n",
            "text/plain": [
              "  과일번호 과일명 가격 수량\n",
              "5 05       바나나 500  15  "
            ]
          },
          "metadata": {}
        }
      ]
    },
    {
      "cell_type": "code",
      "source": [
        "# 조건에 맞는 행 중 특정 열만 가져오기(select 옵션 사용)\n",
        "subset(df, 가격 >= 250, select = c(\"가격\", \"수량\"))"
      ],
      "metadata": {
        "colab": {
          "base_uri": "https://localhost:8080/",
          "height": 192
        },
        "id": "tlj9U44GKbm5",
        "outputId": "825c1472-3a43-47b2-ca30-84721e29e1d5"
      },
      "execution_count": null,
      "outputs": [
        {
          "output_type": "display_data",
          "data": {
            "text/html": [
              "<table class=\"dataframe\">\n",
              "<caption>A data.frame: 3 × 2</caption>\n",
              "<thead>\n",
              "\t<tr><th></th><th scope=col>가격</th><th scope=col>수량</th></tr>\n",
              "\t<tr><th></th><th scope=col>&lt;dbl&gt;</th><th scope=col>&lt;dbl&gt;</th></tr>\n",
              "</thead>\n",
              "<tbody>\n",
              "\t<tr><th scope=row>3</th><td>300</td><td>30</td></tr>\n",
              "\t<tr><th scope=row>4</th><td>400</td><td>20</td></tr>\n",
              "\t<tr><th scope=row>5</th><td>500</td><td>15</td></tr>\n",
              "</tbody>\n",
              "</table>\n"
            ],
            "text/markdown": "\nA data.frame: 3 × 2\n\n| <!--/--> | 가격 &lt;dbl&gt; | 수량 &lt;dbl&gt; |\n|---|---|---|\n| 3 | 300 | 30 |\n| 4 | 400 | 20 |\n| 5 | 500 | 15 |\n\n",
            "text/latex": "A data.frame: 3 × 2\n\\begin{tabular}{r|ll}\n  & 가격 & 수량\\\\\n  & <dbl> & <dbl>\\\\\n\\hline\n\t3 & 300 & 30\\\\\n\t4 & 400 & 20\\\\\n\t5 & 500 & 15\\\\\n\\end{tabular}\n",
            "text/plain": [
              "  가격 수량\n",
              "3 300  30  \n",
              "4 400  20  \n",
              "5 500  15  "
            ]
          },
          "metadata": {}
        }
      ]
    },
    {
      "cell_type": "code",
      "source": [
        "# rbind : 두 개 이상의 데이터프레임을 행으로 결합(열의 개수와 이름이 동일해야 함)\n",
        "# cbind : 두 개 이상의 데이터프레임을 열로 결합(행의 개수가 동일해야 함)\n",
        "df1 <- head(df, n = 2)\n",
        "df2 <- tail(df, n = 2)\n",
        "df1\n",
        "df2\n",
        "\n",
        "df3 <-rbind(df1, df2)\n",
        "df3\n",
        "\n",
        "df4 <- cbind(df1, df2)\n",
        "df4"
      ],
      "metadata": {
        "id": "f9Q3qhquKbkk",
        "colab": {
          "base_uri": "https://localhost:8080/",
          "height": 655
        },
        "outputId": "c52ed0f1-d59f-4004-dd95-3dba61d6f836"
      },
      "execution_count": 17,
      "outputs": [
        {
          "output_type": "display_data",
          "data": {
            "text/html": [
              "<table class=\"dataframe\">\n",
              "<caption>A data.frame: 2 × 4</caption>\n",
              "<thead>\n",
              "\t<tr><th></th><th scope=col>과일번호</th><th scope=col>과일명</th><th scope=col>가격</th><th scope=col>수량</th></tr>\n",
              "\t<tr><th></th><th scope=col>&lt;chr&gt;</th><th scope=col>&lt;chr&gt;</th><th scope=col>&lt;dbl&gt;</th><th scope=col>&lt;dbl&gt;</th></tr>\n",
              "</thead>\n",
              "<tbody>\n",
              "\t<tr><th scope=row>1</th><td>01</td><td>사과</td><td>100</td><td>10</td></tr>\n",
              "\t<tr><th scope=row>2</th><td>02</td><td>배  </td><td>200</td><td>25</td></tr>\n",
              "</tbody>\n",
              "</table>\n"
            ],
            "text/markdown": "\nA data.frame: 2 × 4\n\n| <!--/--> | 과일번호 &lt;chr&gt; | 과일명 &lt;chr&gt; | 가격 &lt;dbl&gt; | 수량 &lt;dbl&gt; |\n|---|---|---|---|---|\n| 1 | 01 | 사과 | 100 | 10 |\n| 2 | 02 | 배   | 200 | 25 |\n\n",
            "text/latex": "A data.frame: 2 × 4\n\\begin{tabular}{r|llll}\n  & 과일번호 & 과일명 & 가격 & 수량\\\\\n  & <chr> & <chr> & <dbl> & <dbl>\\\\\n\\hline\n\t1 & 01 & 사과 & 100 & 10\\\\\n\t2 & 02 & 배   & 200 & 25\\\\\n\\end{tabular}\n",
            "text/plain": [
              "  과일번호 과일명 가격 수량\n",
              "1 01       사과   100  10  \n",
              "2 02       배     200  25  "
            ]
          },
          "metadata": {}
        },
        {
          "output_type": "display_data",
          "data": {
            "text/html": [
              "<table class=\"dataframe\">\n",
              "<caption>A data.frame: 2 × 4</caption>\n",
              "<thead>\n",
              "\t<tr><th></th><th scope=col>과일번호</th><th scope=col>과일명</th><th scope=col>가격</th><th scope=col>수량</th></tr>\n",
              "\t<tr><th></th><th scope=col>&lt;chr&gt;</th><th scope=col>&lt;chr&gt;</th><th scope=col>&lt;dbl&gt;</th><th scope=col>&lt;dbl&gt;</th></tr>\n",
              "</thead>\n",
              "<tbody>\n",
              "\t<tr><th scope=row>4</th><td>04</td><td>귤    </td><td>400</td><td>20</td></tr>\n",
              "\t<tr><th scope=row>5</th><td>05</td><td>바나나</td><td>500</td><td>15</td></tr>\n",
              "</tbody>\n",
              "</table>\n"
            ],
            "text/markdown": "\nA data.frame: 2 × 4\n\n| <!--/--> | 과일번호 &lt;chr&gt; | 과일명 &lt;chr&gt; | 가격 &lt;dbl&gt; | 수량 &lt;dbl&gt; |\n|---|---|---|---|---|\n| 4 | 04 | 귤     | 400 | 20 |\n| 5 | 05 | 바나나 | 500 | 15 |\n\n",
            "text/latex": "A data.frame: 2 × 4\n\\begin{tabular}{r|llll}\n  & 과일번호 & 과일명 & 가격 & 수량\\\\\n  & <chr> & <chr> & <dbl> & <dbl>\\\\\n\\hline\n\t4 & 04 & 귤     & 400 & 20\\\\\n\t5 & 05 & 바나나 & 500 & 15\\\\\n\\end{tabular}\n",
            "text/plain": [
              "  과일번호 과일명 가격 수량\n",
              "4 04       귤     400  20  \n",
              "5 05       바나나 500  15  "
            ]
          },
          "metadata": {}
        },
        {
          "output_type": "display_data",
          "data": {
            "text/html": [
              "<table class=\"dataframe\">\n",
              "<caption>A data.frame: 4 × 4</caption>\n",
              "<thead>\n",
              "\t<tr><th></th><th scope=col>과일번호</th><th scope=col>과일명</th><th scope=col>가격</th><th scope=col>수량</th></tr>\n",
              "\t<tr><th></th><th scope=col>&lt;chr&gt;</th><th scope=col>&lt;chr&gt;</th><th scope=col>&lt;dbl&gt;</th><th scope=col>&lt;dbl&gt;</th></tr>\n",
              "</thead>\n",
              "<tbody>\n",
              "\t<tr><th scope=row>1</th><td>01</td><td>사과  </td><td>100</td><td>10</td></tr>\n",
              "\t<tr><th scope=row>2</th><td>02</td><td>배    </td><td>200</td><td>25</td></tr>\n",
              "\t<tr><th scope=row>4</th><td>04</td><td>귤    </td><td>400</td><td>20</td></tr>\n",
              "\t<tr><th scope=row>5</th><td>05</td><td>바나나</td><td>500</td><td>15</td></tr>\n",
              "</tbody>\n",
              "</table>\n"
            ],
            "text/markdown": "\nA data.frame: 4 × 4\n\n| <!--/--> | 과일번호 &lt;chr&gt; | 과일명 &lt;chr&gt; | 가격 &lt;dbl&gt; | 수량 &lt;dbl&gt; |\n|---|---|---|---|---|\n| 1 | 01 | 사과   | 100 | 10 |\n| 2 | 02 | 배     | 200 | 25 |\n| 4 | 04 | 귤     | 400 | 20 |\n| 5 | 05 | 바나나 | 500 | 15 |\n\n",
            "text/latex": "A data.frame: 4 × 4\n\\begin{tabular}{r|llll}\n  & 과일번호 & 과일명 & 가격 & 수량\\\\\n  & <chr> & <chr> & <dbl> & <dbl>\\\\\n\\hline\n\t1 & 01 & 사과   & 100 & 10\\\\\n\t2 & 02 & 배     & 200 & 25\\\\\n\t4 & 04 & 귤     & 400 & 20\\\\\n\t5 & 05 & 바나나 & 500 & 15\\\\\n\\end{tabular}\n",
            "text/plain": [
              "  과일번호 과일명 가격 수량\n",
              "1 01       사과   100  10  \n",
              "2 02       배     200  25  \n",
              "4 04       귤     400  20  \n",
              "5 05       바나나 500  15  "
            ]
          },
          "metadata": {}
        },
        {
          "output_type": "display_data",
          "data": {
            "text/html": [
              "<table class=\"dataframe\">\n",
              "<caption>A data.frame: 2 × 8</caption>\n",
              "<thead>\n",
              "\t<tr><th></th><th scope=col>과일번호</th><th scope=col>과일명</th><th scope=col>가격</th><th scope=col>수량</th><th scope=col>과일번호</th><th scope=col>과일명</th><th scope=col>가격</th><th scope=col>수량</th></tr>\n",
              "\t<tr><th></th><th scope=col>&lt;chr&gt;</th><th scope=col>&lt;chr&gt;</th><th scope=col>&lt;dbl&gt;</th><th scope=col>&lt;dbl&gt;</th><th scope=col>&lt;chr&gt;</th><th scope=col>&lt;chr&gt;</th><th scope=col>&lt;dbl&gt;</th><th scope=col>&lt;dbl&gt;</th></tr>\n",
              "</thead>\n",
              "<tbody>\n",
              "\t<tr><th scope=row>1</th><td>01</td><td>사과</td><td>100</td><td>10</td><td>04</td><td>귤    </td><td>400</td><td>20</td></tr>\n",
              "\t<tr><th scope=row>2</th><td>02</td><td>배  </td><td>200</td><td>25</td><td>05</td><td>바나나</td><td>500</td><td>15</td></tr>\n",
              "</tbody>\n",
              "</table>\n"
            ],
            "text/markdown": "\nA data.frame: 2 × 8\n\n| <!--/--> | 과일번호 &lt;chr&gt; | 과일명 &lt;chr&gt; | 가격 &lt;dbl&gt; | 수량 &lt;dbl&gt; | 과일번호 &lt;chr&gt; | 과일명 &lt;chr&gt; | 가격 &lt;dbl&gt; | 수량 &lt;dbl&gt; |\n|---|---|---|---|---|---|---|---|---|\n| 1 | 01 | 사과 | 100 | 10 | 04 | 귤     | 400 | 20 |\n| 2 | 02 | 배   | 200 | 25 | 05 | 바나나 | 500 | 15 |\n\n",
            "text/latex": "A data.frame: 2 × 8\n\\begin{tabular}{r|llllllll}\n  & 과일번호 & 과일명 & 가격 & 수량 & 과일번호 & 과일명 & 가격 & 수량\\\\\n  & <chr> & <chr> & <dbl> & <dbl> & <chr> & <chr> & <dbl> & <dbl>\\\\\n\\hline\n\t1 & 01 & 사과 & 100 & 10 & 04 & 귤     & 400 & 20\\\\\n\t2 & 02 & 배   & 200 & 25 & 05 & 바나나 & 500 & 15\\\\\n\\end{tabular}\n",
            "text/plain": [
              "  과일번호 과일명 가격 수량 과일번호 과일명 가격 수량\n",
              "1 01       사과   100  10   04       귤     400  20  \n",
              "2 02       배     200  25   05       바나나 500  15  "
            ]
          },
          "metadata": {}
        }
      ]
    },
    {
      "cell_type": "code",
      "source": [
        "# 리스트 : 벡터, 데이터프레임, 배열, 함수 등과 같은 R의 모든 객체를 담을 수 있는 데이터 구조\n",
        "# (키, 값)의 형태로 데이터를 저장\n",
        "# 각 객체의 이름은 '키' 자리에 입력하며, '키'가 없는 경우 [[1]], [[2]], [[3]]의 순으로 이름이 부여됨\n",
        "\n",
        "# 리스트 생성 : list()\n",
        "x <- c(\"사과\", \"배\", \"감\", \"귤\", \"바나나\") # 벡터 생성\n",
        "x\n",
        "\n",
        "y1 <- c(10, 20, 30, 40, 50)\n",
        "y2 <- c(1, 2, 3, 4, 5)\n",
        "df <- data.frame(y1, y2)  # 데이터프레임 생성\n",
        "df\n",
        "\n",
        "list1 <- list(x, df)      # 리스트 생성\n",
        "list1"
      ],
      "metadata": {
        "id": "xc2ss7trKbiU",
        "colab": {
          "base_uri": "https://localhost:8080/",
          "height": 590
        },
        "outputId": "4f9887f5-b5dd-4d8d-db1c-4b7c43836f5e"
      },
      "execution_count": 18,
      "outputs": [
        {
          "output_type": "display_data",
          "data": {
            "text/html": [
              "<style>\n",
              ".list-inline {list-style: none; margin:0; padding: 0}\n",
              ".list-inline>li {display: inline-block}\n",
              ".list-inline>li:not(:last-child)::after {content: \"\\00b7\"; padding: 0 .5ex}\n",
              "</style>\n",
              "<ol class=list-inline><li>'사과'</li><li>'배'</li><li>'감'</li><li>'귤'</li><li>'바나나'</li></ol>\n"
            ],
            "text/markdown": "1. '사과'\n2. '배'\n3. '감'\n4. '귤'\n5. '바나나'\n\n\n",
            "text/latex": "\\begin{enumerate*}\n\\item '사과'\n\\item '배'\n\\item '감'\n\\item '귤'\n\\item '바나나'\n\\end{enumerate*}\n",
            "text/plain": [
              "[1] \"사과\"   \"배\"     \"감\"     \"귤\"     \"바나나\""
            ]
          },
          "metadata": {}
        },
        {
          "output_type": "display_data",
          "data": {
            "text/html": [
              "<table class=\"dataframe\">\n",
              "<caption>A data.frame: 5 × 2</caption>\n",
              "<thead>\n",
              "\t<tr><th scope=col>y1</th><th scope=col>y2</th></tr>\n",
              "\t<tr><th scope=col>&lt;dbl&gt;</th><th scope=col>&lt;dbl&gt;</th></tr>\n",
              "</thead>\n",
              "<tbody>\n",
              "\t<tr><td>10</td><td>1</td></tr>\n",
              "\t<tr><td>20</td><td>2</td></tr>\n",
              "\t<tr><td>30</td><td>3</td></tr>\n",
              "\t<tr><td>40</td><td>4</td></tr>\n",
              "\t<tr><td>50</td><td>5</td></tr>\n",
              "</tbody>\n",
              "</table>\n"
            ],
            "text/markdown": "\nA data.frame: 5 × 2\n\n| y1 &lt;dbl&gt; | y2 &lt;dbl&gt; |\n|---|---|\n| 10 | 1 |\n| 20 | 2 |\n| 30 | 3 |\n| 40 | 4 |\n| 50 | 5 |\n\n",
            "text/latex": "A data.frame: 5 × 2\n\\begin{tabular}{ll}\n y1 & y2\\\\\n <dbl> & <dbl>\\\\\n\\hline\n\t 10 & 1\\\\\n\t 20 & 2\\\\\n\t 30 & 3\\\\\n\t 40 & 4\\\\\n\t 50 & 5\\\\\n\\end{tabular}\n",
            "text/plain": [
              "  y1 y2\n",
              "1 10 1 \n",
              "2 20 2 \n",
              "3 30 3 \n",
              "4 40 4 \n",
              "5 50 5 "
            ]
          },
          "metadata": {}
        },
        {
          "output_type": "display_data",
          "data": {
            "text/html": [
              "<ol>\n",
              "\t<li><style>\n",
              ".list-inline {list-style: none; margin:0; padding: 0}\n",
              ".list-inline>li {display: inline-block}\n",
              ".list-inline>li:not(:last-child)::after {content: \"\\00b7\"; padding: 0 .5ex}\n",
              "</style>\n",
              "<ol class=list-inline><li>'사과'</li><li>'배'</li><li>'감'</li><li>'귤'</li><li>'바나나'</li></ol>\n",
              "</li>\n",
              "\t<li><table class=\"dataframe\">\n",
              "<caption>A data.frame: 5 × 2</caption>\n",
              "<thead>\n",
              "\t<tr><th scope=col>y1</th><th scope=col>y2</th></tr>\n",
              "\t<tr><th scope=col>&lt;dbl&gt;</th><th scope=col>&lt;dbl&gt;</th></tr>\n",
              "</thead>\n",
              "<tbody>\n",
              "\t<tr><td>10</td><td>1</td></tr>\n",
              "\t<tr><td>20</td><td>2</td></tr>\n",
              "\t<tr><td>30</td><td>3</td></tr>\n",
              "\t<tr><td>40</td><td>4</td></tr>\n",
              "\t<tr><td>50</td><td>5</td></tr>\n",
              "</tbody>\n",
              "</table>\n",
              "</li>\n",
              "</ol>\n"
            ],
            "text/markdown": "1. 1. '사과'\n2. '배'\n3. '감'\n4. '귤'\n5. '바나나'\n\n\n\n2. \nA data.frame: 5 × 2\n\n| y1 &lt;dbl&gt; | y2 &lt;dbl&gt; |\n|---|---|\n| 10 | 1 |\n| 20 | 2 |\n| 30 | 3 |\n| 40 | 4 |\n| 50 | 5 |\n\n\n\n\n",
            "text/latex": "\\begin{enumerate}\n\\item \\begin{enumerate*}\n\\item '사과'\n\\item '배'\n\\item '감'\n\\item '귤'\n\\item '바나나'\n\\end{enumerate*}\n\n\\item A data.frame: 5 × 2\n\\begin{tabular}{ll}\n y1 & y2\\\\\n <dbl> & <dbl>\\\\\n\\hline\n\t 10 & 1\\\\\n\t 20 & 2\\\\\n\t 30 & 3\\\\\n\t 40 & 4\\\\\n\t 50 & 5\\\\\n\\end{tabular}\n\n\\end{enumerate}\n",
            "text/plain": [
              "[[1]]\n",
              "[1] \"사과\"   \"배\"     \"감\"     \"귤\"     \"바나나\"\n",
              "\n",
              "[[2]]\n",
              "  y1 y2\n",
              "1 10  1\n",
              "2 20  2\n",
              "3 30  3\n",
              "4 40  4\n",
              "5 50  5\n"
            ]
          },
          "metadata": {}
        }
      ]
    },
    {
      "cell_type": "code",
      "source": [
        "# 리스트 다루기\n",
        "# 리스트[n]     # n번째 객체(벡터, 행렬, 데이터프레임 등)를 가져옴\n",
        "# 리스트$키     # '키'값에 해당하는 원소 출력\n",
        "\n",
        "x <- c(\"사과\", \"배\", \"감\", \"귤\", \"바나나\")\n",
        "y <- c(10:20)\n",
        "\n",
        "list1 <- list(\"과일\" = x, \"숫자\" = y)\n",
        "list1\n",
        "\n",
        "list1[1]\n",
        "list1$숫자"
      ],
      "metadata": {
        "id": "ffONHXH9KbgH",
        "colab": {
          "base_uri": "https://localhost:8080/",
          "height": 167
        },
        "outputId": "5f8cf232-78da-416f-b42d-5c8b8a89416d"
      },
      "execution_count": 21,
      "outputs": [
        {
          "output_type": "display_data",
          "data": {
            "text/html": [
              "<dl>\n",
              "\t<dt>$과일</dt>\n",
              "\t\t<dd><style>\n",
              ".list-inline {list-style: none; margin:0; padding: 0}\n",
              ".list-inline>li {display: inline-block}\n",
              ".list-inline>li:not(:last-child)::after {content: \"\\00b7\"; padding: 0 .5ex}\n",
              "</style>\n",
              "<ol class=list-inline><li>'사과'</li><li>'배'</li><li>'감'</li><li>'귤'</li><li>'바나나'</li></ol>\n",
              "</dd>\n",
              "\t<dt>$숫자</dt>\n",
              "\t\t<dd><style>\n",
              ".list-inline {list-style: none; margin:0; padding: 0}\n",
              ".list-inline>li {display: inline-block}\n",
              ".list-inline>li:not(:last-child)::after {content: \"\\00b7\"; padding: 0 .5ex}\n",
              "</style>\n",
              "<ol class=list-inline><li>10</li><li>11</li><li>12</li><li>13</li><li>14</li><li>15</li><li>16</li><li>17</li><li>18</li><li>19</li><li>20</li></ol>\n",
              "</dd>\n",
              "</dl>\n"
            ],
            "text/markdown": "$과일\n:   1. '사과'\n2. '배'\n3. '감'\n4. '귤'\n5. '바나나'\n\n\n\n$숫자\n:   1. 10\n2. 11\n3. 12\n4. 13\n5. 14\n6. 15\n7. 16\n8. 17\n9. 18\n10. 19\n11. 20\n\n\n\n\n\n",
            "text/latex": "\\begin{description}\n\\item[\\$과일] \\begin{enumerate*}\n\\item '사과'\n\\item '배'\n\\item '감'\n\\item '귤'\n\\item '바나나'\n\\end{enumerate*}\n\n\\item[\\$숫자] \\begin{enumerate*}\n\\item 10\n\\item 11\n\\item 12\n\\item 13\n\\item 14\n\\item 15\n\\item 16\n\\item 17\n\\item 18\n\\item 19\n\\item 20\n\\end{enumerate*}\n\n\\end{description}\n",
            "text/plain": [
              "$과일\n",
              "[1] \"사과\"   \"배\"     \"감\"     \"귤\"     \"바나나\"\n",
              "\n",
              "$숫자\n",
              " [1] 10 11 12 13 14 15 16 17 18 19 20\n"
            ]
          },
          "metadata": {}
        },
        {
          "output_type": "display_data",
          "data": {
            "text/html": [
              "<strong>$과일</strong> = <style>\n",
              ".list-inline {list-style: none; margin:0; padding: 0}\n",
              ".list-inline>li {display: inline-block}\n",
              ".list-inline>li:not(:last-child)::after {content: \"\\00b7\"; padding: 0 .5ex}\n",
              "</style>\n",
              "<ol class=list-inline><li>'사과'</li><li>'배'</li><li>'감'</li><li>'귤'</li><li>'바나나'</li></ol>\n"
            ],
            "text/markdown": "**$과일** = 1. '사과'\n2. '배'\n3. '감'\n4. '귤'\n5. '바나나'\n\n\n",
            "text/latex": "\\textbf{\\$과일} = \\begin{enumerate*}\n\\item '사과'\n\\item '배'\n\\item '감'\n\\item '귤'\n\\item '바나나'\n\\end{enumerate*}\n",
            "text/plain": [
              "$과일\n",
              "[1] \"사과\"   \"배\"     \"감\"     \"귤\"     \"바나나\"\n"
            ]
          },
          "metadata": {}
        },
        {
          "output_type": "display_data",
          "data": {
            "text/html": [
              "<style>\n",
              ".list-inline {list-style: none; margin:0; padding: 0}\n",
              ".list-inline>li {display: inline-block}\n",
              ".list-inline>li:not(:last-child)::after {content: \"\\00b7\"; padding: 0 .5ex}\n",
              "</style>\n",
              "<ol class=list-inline><li>10</li><li>11</li><li>12</li><li>13</li><li>14</li><li>15</li><li>16</li><li>17</li><li>18</li><li>19</li><li>20</li></ol>\n"
            ],
            "text/markdown": "1. 10\n2. 11\n3. 12\n4. 13\n5. 14\n6. 15\n7. 16\n8. 17\n9. 18\n10. 19\n11. 20\n\n\n",
            "text/latex": "\\begin{enumerate*}\n\\item 10\n\\item 11\n\\item 12\n\\item 13\n\\item 14\n\\item 15\n\\item 16\n\\item 17\n\\item 18\n\\item 19\n\\item 20\n\\end{enumerate*}\n",
            "text/plain": [
              " [1] 10 11 12 13 14 15 16 17 18 19 20"
            ]
          },
          "metadata": {}
        }
      ]
    },
    {
      "cell_type": "code",
      "source": [],
      "metadata": {
        "id": "q3g1CP7BKbdz"
      },
      "execution_count": null,
      "outputs": []
    },
    {
      "cell_type": "code",
      "source": [],
      "metadata": {
        "id": "yxGCjxTDKbbU"
      },
      "execution_count": null,
      "outputs": []
    },
    {
      "cell_type": "code",
      "source": [],
      "metadata": {
        "id": "mKhbRc_8KbZE"
      },
      "execution_count": null,
      "outputs": []
    },
    {
      "cell_type": "code",
      "source": [],
      "metadata": {
        "id": "8dDFbFbJKbW3"
      },
      "execution_count": null,
      "outputs": []
    },
    {
      "cell_type": "code",
      "source": [],
      "metadata": {
        "id": "10d5ba4iKbUi"
      },
      "execution_count": null,
      "outputs": []
    },
    {
      "cell_type": "code",
      "source": [],
      "metadata": {
        "id": "onzlQe5iKbSK"
      },
      "execution_count": null,
      "outputs": []
    },
    {
      "cell_type": "code",
      "source": [],
      "metadata": {
        "id": "BG6uYqfWKbP3"
      },
      "execution_count": null,
      "outputs": []
    },
    {
      "cell_type": "code",
      "source": [],
      "metadata": {
        "id": "OdAsjxM6KbNr"
      },
      "execution_count": null,
      "outputs": []
    },
    {
      "cell_type": "code",
      "source": [],
      "metadata": {
        "id": "Xk_QGQ-TKbLb"
      },
      "execution_count": null,
      "outputs": []
    },
    {
      "cell_type": "code",
      "source": [],
      "metadata": {
        "id": "uDpk3nGrKbJf"
      },
      "execution_count": null,
      "outputs": []
    },
    {
      "cell_type": "code",
      "source": [],
      "metadata": {
        "id": "uz0RY7hMKbI7"
      },
      "execution_count": null,
      "outputs": []
    }
  ]
}